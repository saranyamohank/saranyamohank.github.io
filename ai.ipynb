{
  "nbformat": 4,
  "nbformat_minor": 0,
  "metadata": {
    "colab": {
      "provenance": []
    },
    "kernelspec": {
      "name": "python3",
      "display_name": "Python 3"
    },
    "language_info": {
      "name": "python"
    }
  },
  "cells": [
    {
      "cell_type": "code",
      "source": [
        "def check_answers(correct_answers, student_answers):\n",
        "    num_correct = sum(c == s for c, s in zip(correct_answers, student_answers))\n",
        "    num_incorrect = sum(c != s and s != \"\" for c, s in zip(correct_answers, student_answers))\n",
        "    num_unanswered = sum(s == \"\" for s in student_answers)\n",
        "    total_score = num_correct\n",
        "    return num_correct, num_incorrect, num_unanswered, total_score\n",
        "\n",
        "num_questions = int(input(\"Enter the number of questions: \"))\n",
        "\n",
        "# Get correct answers from the user\n",
        "print(\"Enter correct answers:\")\n",
        "correct_answers = [input(f\"Enter answer for question {i + 1} (e.g., A, B, C, D): \").strip().lower() for i in range(num_questions)]\n",
        "\n",
        "# Get student's answers from the user\n",
        "print(\"\\nEnter student's answers:\")\n",
        "student_answers = [input(f\"Enter answer for question {i + 1} (e.g., A, B, C, D): \").strip().lower() for i in range(num_questions)]\n",
        "\n",
        "# Check answers and get results\n",
        "num_correct, num_incorrect, num_unanswered, total_score = check_answers(correct_answers, student_answers)\n",
        "\n",
        "# Display the results\n",
        "print(\"\\nResults:\")\n",
        "print(f\"Correct answers: {num_correct}\")\n",
        "print(f\"Incorrect answers: {num_incorrect}\")\n",
        "print(f\"Unanswered questions: {num_unanswered}\")\n",
        "print(f\"Total score: {total_score}/{num_questions}\")"
      ],
      "metadata": {
        "colab": {
          "base_uri": "https://localhost:8080/"
        },
        "id": "oo2Hx46iPZjI",
        "outputId": "6ca24f6c-342f-48b9-a196-7cd0fa35e18d"
      },
      "execution_count": 7,
      "outputs": [
        {
          "output_type": "stream",
          "name": "stdout",
          "text": [
            "Enter the number of questions: 3\n",
            "Enter correct answers:\n",
            "Enter answer for question 1 (e.g., A, B, C, D): a\n",
            "Enter answer for question 2 (e.g., A, B, C, D): d\n",
            "Enter answer for question 3 (e.g., A, B, C, D): a\n",
            "\n",
            "Enter student's answers:\n",
            "Enter answer for question 1 (e.g., A, B, C, D): a\n",
            "Enter answer for question 2 (e.g., A, B, C, D): a\n",
            "Enter answer for question 3 (e.g., A, B, C, D): f\n",
            "\n",
            "Results:\n",
            "Correct answers: 1\n",
            "Incorrect answers: 2\n",
            "Unanswered questions: 0\n",
            "Total score: 1/3\n"
          ]
        }
      ]
    },
    {
      "cell_type": "code",
      "source": [
        "class ShoppingAssistant:\n",
        "    def __init__(self):\n",
        "        self.user_preferences = []\n",
        "\n",
        "    def get_user_preferences(self):\n",
        "        print(\"Welcome to the Online AI Shopping Assistant!\")\n",
        "        print(\"Please enter your preferences for shopping categories (separate each category by a comma):\")\n",
        "        preferences_input = input().strip()\n",
        "        self.user_preferences = preferences_input.split(',')\n",
        "\n",
        "    def recommend_products(self):\n",
        "        # You can use dummy data or pre-defined products for recommendations\n",
        "        products = [\n",
        "            {\"name\": \"Laptop\", \"category\": \"electronics\", \"price\": 800},\n",
        "            {\"name\": \"Smartphone\", \"category\": \"electronics\", \"price\": 500},\n",
        "            {\"name\": \"T-shirt\", \"category\": \"fashion\", \"price\": 25},\n",
        "            {\"name\": \"Jeans\", \"category\": \"fashion\", \"price\": 50},\n",
        "            {\"name\": \"Book\", \"category\": \"books\", \"price\": 15},\n",
        "            {\"name\": \"Headphones\", \"category\": \"electronics\", \"price\": 100},\n",
        "            {\"name\": \"Sneakers\", \"category\": \"fashion\", \"price\": 80},\n",
        "        ]\n",
        "\n",
        "        recommended_products = []\n",
        "        for product in products:\n",
        "            if product[\"category\"] in self.user_preferences:\n",
        "                recommended_products.append(product)\n",
        "\n",
        "        if recommended_products:\n",
        "            print(\"\\nRecommended Products:\")\n",
        "            for product in recommended_products:\n",
        "                print(f\"{product['name']} - ${product['price']}\")\n",
        "        else:\n",
        "            print(\"Sorry, no products match your preferences.\")\n",
        "\n",
        "    def run(self):\n",
        "        self.get_user_preferences()\n",
        "        self.recommend_products()\n",
        "\n",
        "# Create and run the ShoppingAssistant\n",
        "assistant = ShoppingAssistant()\n",
        "assistant.run()\n"
      ],
      "metadata": {
        "colab": {
          "base_uri": "https://localhost:8080/"
        },
        "id": "i78iOdxYPkU2",
        "outputId": "7930fba3-47e9-47d8-ead2-f39d7d6d19e4"
      },
      "execution_count": 11,
      "outputs": [
        {
          "output_type": "stream",
          "name": "stdout",
          "text": [
            "Welcome to the Online AI Shopping Assistant!\n",
            "Please enter your preferences for shopping categories (separate each category by a comma):\n",
            "books\n",
            "\n",
            "Recommended Products:\n",
            "Book - $15\n"
          ]
        }
      ]
    },
    {
      "cell_type": "code",
      "source": [
        "class TouristDestinations:\n",
        "    def __init__(self):\n",
        "        self.user_preferences = []\n",
        "\n",
        "    def get_user_preferences(self):\n",
        "        print(\"Welcome to the Online AI Tourist Assistant!\")\n",
        "        print(\"Please enter your preferences for Tourist Places (separate each category by a comma):\")\n",
        "        preferences_input = input().strip()\n",
        "        self.user_preferences = preferences_input.split(',')\n",
        "\n",
        "    def recommend_destination(self):\n",
        "        # You can use dummy data or pre-defined products for recommendations\n",
        "        destinations = [\n",
        "            {\"name\": \"Paris\", \"category\": \"city\", \"rating\": 9.5},\n",
        "            {\"name\": \"Bali\", \"category\": \"beach\", \"rating\": 9.0},\n",
        "            {\"name\": \"Tokyo\", \"category\": \"city\", \"rating\": 9.2},\n",
        "            {\"name\": \"Barcelona\", \"category\": \"city\", \"rating\": 9.1},\n",
        "            {\"name\": \"Maldives\", \"category\": \"beach\", \"rating\": 9.8},\n",
        "            {\"name\": \"Rome\", \"category\": \"city\", \"rating\": 9.4},\n",
        "            {\"name\": \"Phuket\", \"category\": \"beach\", \"rating\": 8.9},\n",
        "        ]\n",
        "\n",
        "        recommended_destination = []\n",
        "        for destination in destinations:\n",
        "            if destination[\"category\"] in self.user_preferences:\n",
        "                recommended_destination.append(destination)\n",
        "\n",
        "        if recommended_destination:\n",
        "            print(\"\\nRecommended destinations:\")\n",
        "            for destination in recommended_destination:\n",
        "                print(f\"PLACE: {destination['name']} - RATING: {destination['rating']}\")\n",
        "        else:\n",
        "            print(\"Sorry, no products match your preferences.\")\n",
        "\n",
        "    def run(self):\n",
        "        self.get_user_preferences()\n",
        "        self.recommend_destination()\n",
        "\n",
        "# Create and run the ShoppingAssistant\n",
        "assistant = TouristDestinations()\n",
        "assistant.run()\n"
      ],
      "metadata": {
        "colab": {
          "base_uri": "https://localhost:8080/"
        },
        "id": "oofeeRvuT9fE",
        "outputId": "bdb9a541-15cd-494c-b34a-91bb58d89ae2"
      },
      "execution_count": 15,
      "outputs": [
        {
          "output_type": "stream",
          "name": "stdout",
          "text": [
            "Welcome to the Online AI Tourist Assistant!\n",
            "Please enter your preferences for Tourist Places (separate each category by a comma):\n",
            "city\n",
            "\n",
            "Recommended destinations:\n",
            "PLACE: Paris - RATING: 9.5\n",
            "PLACE: Tokyo - RATING: 9.2\n",
            "PLACE: Barcelona - RATING: 9.1\n",
            "PLACE: Rome - RATING: 9.4\n"
          ]
        }
      ]
    },
    {
      "cell_type": "code",
      "source": [
        "import difflib\n",
        "\n",
        "def check_plagiarism(input_text, database_texts):\n",
        "    return sorted([(difflib.SequenceMatcher(None, input_text, text).ratio() * 100, text) for text in database_texts], reverse=True)\n",
        "\n",
        "user_input = input(\"Enter the text to be checked for plagiarism: \")\n",
        "database_texts = [\n",
        "    \"This is a sample text for comparison.\",\n",
        "    \"The quick brown fox jumps over the lazy dog.\",\n",
        "    \"Python is a popular programming language.\",\n",
        "    \"Plagiarism is an academic offense.\"\n",
        "]\n",
        "\n",
        "similarity_results = check_plagiarism(user_input, database_texts)\n",
        "\n",
        "print(\"Similarity percentages and corresponding texts from the database:\")\n",
        "for similarity, text in similarity_results:\n",
        "    print(f\"Similarity: {similarity:.2f}%\")\n",
        "    print(f\"Text: {text}\")\n",
        "    print()"
      ],
      "metadata": {
        "colab": {
          "base_uri": "https://localhost:8080/"
        },
        "id": "_bPKb8donwFP",
        "outputId": "fa2c29e7-de59-4931-ea29-4464cc5dac73"
      },
      "execution_count": 17,
      "outputs": [
        {
          "output_type": "stream",
          "name": "stdout",
          "text": [
            "Enter the text to be checked for plagiarism: this i quick brown frag\n",
            "Similarity percentages and corresponding texts from the database:\n",
            "Similarity: 53.73%\n",
            "Text: The quick brown fox jumps over the lazy dog.\n",
            "\n",
            "Similarity: 40.62%\n",
            "Text: Python is a popular programming language.\n",
            "\n",
            "Similarity: 36.67%\n",
            "Text: This is a sample text for comparison.\n",
            "\n",
            "Similarity: 31.58%\n",
            "Text: Plagiarism is an academic offense.\n",
            "\n"
          ]
        }
      ]
    },
    {
      "cell_type": "code",
      "source": [
        "class Subject:\n",
        "    def __init__(self, name, code):\n",
        "        self.name, self.code = name, code\n",
        "\n",
        "class Teacher:\n",
        "    def __init__(self, name, subject):\n",
        "        self.name, self.subject = name, subject\n",
        "\n",
        "def generate_time_table(teachers, classroom_availability):\n",
        "    # Replace this with the actual timetable generation logic based on the provided data\n",
        "    # For simplicity, we provide dummy timetable here\n",
        "    timetable = {\n",
        "        \"Monday\": {\"9:00 AM\": (\"Math\", \"Room A\"), \"10:00 AM\": (\"Science\", \"Room B\"), \"11:00 AM\": (\"English\", \"Room C\")},\n",
        "        \"Tuesday\": {\"9:00 AM\": (\"Science\", \"Room B\"), \"10:00 AM\": (\"Math\", \"Room A\"), \"11:00 AM\": (\"History\", \"Room C\")},\n",
        "        \"Wednesday\": {\"9:00 AM\": (\"English\", \"Room C\"), \"10:00 AM\": (\"History\", \"Room B\"), \"11:00 AM\": (\"Math\", \"Room A\")}\n",
        "        # Continue for other days and time slots\n",
        "    }\n",
        "    return timetable\n",
        "\n",
        "# Replace this with the actual data input logic\n",
        "teachers = [Teacher(\"John Smith\", Subject(\"Mathematics\", \"MAT101\")),\n",
        "            Teacher(\"Jane Doe\", Subject(\"Science\", \"SCI101\")),\n",
        "            Teacher(\"Michael Brown\", Subject(\"English\", \"ENG101\")),\n",
        "            Teacher(\"Emily Johnson\", Subject(\"History\", \"HIS101\"))]\n",
        "\n",
        "classroom_availability = {\"Room A\": [\"Monday\", \"Wednesday\"],\n",
        "                          \"Room B\": [\"Monday\", \"Tuesday\"],\n",
        "                          \"Room C\": [\"Monday\", \"Tuesday\", \"Wednesday\"]}\n",
        "\n",
        "timetable = generate_time_table(teachers, classroom_availability)\n",
        "\n",
        "# Display the generated timetable\n",
        "print(\"Timetable:\")\n",
        "for day, slots in timetable.items():\n",
        "    print(day)\n",
        "    for time, (subject_name, classroom) in slots.items():\n",
        "        print(f\"    {time} - {subject_name} ({classroom})\")\n"
      ],
      "metadata": {
        "colab": {
          "base_uri": "https://localhost:8080/"
        },
        "id": "twk-znsFpcpS",
        "outputId": "ea0e5dfa-b4d7-4ba7-a50c-9f14574f9cb6"
      },
      "execution_count": 21,
      "outputs": [
        {
          "output_type": "stream",
          "name": "stdout",
          "text": [
            "Timetable:\n",
            "Monday\n",
            "    9:00 AM - Math (Room A)\n",
            "    10:00 AM - Science (Room B)\n",
            "    11:00 AM - English (Room C)\n",
            "Tuesday\n",
            "    9:00 AM - Science (Room B)\n",
            "    10:00 AM - Math (Room A)\n",
            "    11:00 AM - History (Room C)\n",
            "Wednesday\n",
            "    9:00 AM - English (Room C)\n",
            "    10:00 AM - History (Room B)\n",
            "    11:00 AM - Math (Room A)\n"
          ]
        }
      ]
    },
    {
      "cell_type": "code",
      "source": [],
      "metadata": {
        "id": "KkD7lrvZuCk-"
      },
      "execution_count": null,
      "outputs": []
    }
  ]
}